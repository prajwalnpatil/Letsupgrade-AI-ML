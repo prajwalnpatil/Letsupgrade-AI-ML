{
 "cells": [
  {
   "cell_type": "markdown",
   "metadata": {},
   "source": [
    "Question 1 : Research on whether addition, subtraction, multiplication, division, floor division and modulooperations be performed on complex numbers. Based on your study, implement a Python program to demonstrate these operations"
   ]
  },
  {
   "cell_type": "code",
   "execution_count": 18,
   "metadata": {},
   "outputs": [
    {
     "name": "stdout",
     "output_type": "stream",
     "text": [
      "(13+8j)\n",
      "(3+4j)\n",
      "(28+46j)\n",
      "(1.793103448275862+0.48275862068965514j)\n"
     ]
    }
   ],
   "source": [
    "x= 8+6j\n",
    "y= 5+2j\n",
    "print(x+y)\n",
    "print(x-y)\n",
    "print(x*y)\n",
    "print(x/y)\n",
    "# print(x//y)floor division is not possible on complex numbers\n",
    "# print(x%y) modulus cannot be perform on complex numbers"
   ]
  },
  {
   "cell_type": "markdown",
   "metadata": {},
   "source": [
    "Question 2 : Research on range() functions and its parameters. Create a markdown cell and write in your ownwords (no copy-paste from google please) what you understand about it. Implement a small program of your choice on the same"
   ]
  },
  {
   "cell_type": "markdown",
   "metadata": {},
   "source": [
    "1. The range() function performs a sequence of numbers by considering default value as 0.\n",
    "2. It starts from default value 0 till the assigned value.\n",
    "3. Step value can be given in the range function.\n",
    "4. range(start,end,step) is usual syntax in python where range returns the value from start to end  by using step value.\n",
    "5. Step value by default will be 1"
   ]
  },
  {
   "cell_type": "code",
   "execution_count": 20,
   "metadata": {},
   "outputs": [
    {
     "name": "stdout",
     "output_type": "stream",
     "text": [
      "0\n",
      "1\n",
      "2\n",
      "3\n",
      "4\n",
      "5\n",
      "6\n",
      "7\n",
      "8\n",
      "9\n"
     ]
    }
   ],
   "source": [
    "h=10\n",
    "for i in range(h): #here by default range starts from o till h-1 by taking default step value of 1\n",
    "    print(i)"
   ]
  },
  {
   "cell_type": "code",
   "execution_count": 21,
   "metadata": {},
   "outputs": [
    {
     "name": "stdout",
     "output_type": "stream",
     "text": [
      "1\n",
      "3\n",
      "5\n",
      "7\n",
      "9\n"
     ]
    }
   ],
   "source": [
    "h=10\n",
    "for i in range(1,h,2): #here range starts from 1 till h-1 by taking step value of 2\n",
    "    print(i)"
   ]
  },
  {
   "cell_type": "markdown",
   "metadata": {},
   "source": [
    "Question 3 : Consider two numbers. Perform their subtraction and if the result of subtraction is greater than25, print their multiplication result else print their division result."
   ]
  },
  {
   "cell_type": "code",
   "execution_count": 4,
   "metadata": {},
   "outputs": [
    {
     "name": "stdout",
     "output_type": "stream",
     "text": [
      "since 20 is lesser than 25 hence division of 25 and 5 is:\n",
      "5.0\n"
     ]
    }
   ],
   "source": [
    "a=25\n",
    "b=5\n",
    "c=a-b\n",
    "if c >25:\n",
    "    print('since',c,'is greather than 25 hence multiplication of',a,'and',b,'is:')\n",
    "    print(a*b)\n",
    "else:\n",
    "    print('since',c,'is lesser than 25 hence division of',a,'and',b,'is:')\n",
    "    print(a/b)"
   ]
  },
  {
   "cell_type": "markdown",
   "metadata": {},
   "source": [
    "Question 4 : Consider a list of 10 elements of integer values. If the number in the list is divisible by 2, print theresult as \"square of that number minus 2\""
   ]
  },
  {
   "cell_type": "code",
   "execution_count": 8,
   "metadata": {},
   "outputs": [
    {
     "name": "stdout",
     "output_type": "stream",
     "text": [
      "square of the number 10 minus 2 is: 98\n",
      "square of the number 26 minus 2 is: 674\n",
      "square of the number 76 minus 2 is: 5774\n",
      "square of the number 16 minus 2 is: 254\n",
      "square of the number 34 minus 2 is: 1154\n",
      "square of the number 92 minus 2 is: 8462\n",
      "square of the number 40 minus 2 is: 1598\n"
     ]
    }
   ],
   "source": [
    "e= [5,10,26,85,76,16,27,34,92,40]\n",
    "for i in e:\n",
    "    if i%2==0:\n",
    "        print('square of the number',i,'minus 2 is:',i**2-2)"
   ]
  },
  {
   "cell_type": "markdown",
   "metadata": {},
   "source": [
    "Question 5 : Consider a list of 10 elements. Print all the elements in the list which are greater than 7 when that number is divided 2"
   ]
  },
  {
   "cell_type": "code",
   "execution_count": 11,
   "metadata": {},
   "outputs": [
    {
     "name": "stdout",
     "output_type": "stream",
     "text": [
      "10 16 8 14 12 "
     ]
    }
   ],
   "source": [
    "f= [5,10,6,15,16,8,7,14,4,12]\n",
    "for i in f:\n",
    "    if i > 7 and i%2==0:\n",
    "        print(i,end=\" \")"
   ]
  }
 ],
 "metadata": {
  "kernelspec": {
   "display_name": "Python 3",
   "language": "python",
   "name": "python3"
  },
  "language_info": {
   "codemirror_mode": {
    "name": "ipython",
    "version": 3
   },
   "file_extension": ".py",
   "mimetype": "text/x-python",
   "name": "python",
   "nbconvert_exporter": "python",
   "pygments_lexer": "ipython3",
   "version": "3.7.4"
  }
 },
 "nbformat": 4,
 "nbformat_minor": 2
}
