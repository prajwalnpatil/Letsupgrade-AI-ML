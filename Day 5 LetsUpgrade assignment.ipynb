{
 "cells": [
  {
   "cell_type": "markdown",
   "metadata": {},
   "source": [
    "Question 1 : Write a Python program to find the first 20 non-even prime natural numbers"
   ]
  },
  {
   "cell_type": "code",
   "execution_count": 92,
   "metadata": {},
   "outputs": [
    {
     "name": "stdout",
     "output_type": "stream",
     "text": [
      "3 5 7 11 13 17 19 23 29 31 37 41 43 47 53 59 61 67 71 73 "
     ]
    }
   ],
   "source": [
    "n=200\n",
    "prime=[]\n",
    "for x in range (1,n+1):\n",
    "    if x >2 and len(prime)<=19:\n",
    "        for i in range(2,x):\n",
    "            if (x%i)==0:\n",
    "                break\n",
    "        else:\n",
    "            prime.append(x)\n",
    "for j in prime:\n",
    "    print(j,end=' ')"
   ]
  },
  {
   "cell_type": "markdown",
   "metadata": {},
   "source": [
    "Question 2 : Write a Python program to implement 15 functions of string"
   ]
  },
  {
   "cell_type": "code",
   "execution_count": 105,
   "metadata": {},
   "outputs": [
    {
     "name": "stdout",
     "output_type": "stream",
     "text": [
      "Hello people this is prajwal and my id is 267152.\n",
      "HELLO PEOPLE THIS IS PRAJWAL AND MY ID IS 267152.\n",
      "hello people this is prajwal and my id is 267152.\n",
      "23\n",
      "False\n",
      "False\n",
      "3\n",
      "<built-in method title of str object at 0x0000022B74265AB0>\n",
      "['Hello', 'people', 'this', 'is', 'prajwal', 'and', 'my', 'id', 'is', '267152.']\n",
      "True\n",
      "('Hello people ', 'this', ' is prajwal and my id is 267152.')\n",
      "True\n",
      "$$$$$$prajwal$$$$$$$\n",
      "True\n",
      "Hello people this is prajwal and my id is 74110.\n"
     ]
    }
   ],
   "source": [
    "s='Hello people this is prajwal and my id is 267152.'\n",
    "p='prajwal'\n",
    "d='74110'\n",
    "caps=s.capitalize()\n",
    "upper=s.upper()\n",
    "lower=s.lower()\n",
    "count=s.count('a')\n",
    "find=s.find('a')\n",
    "isalpha=s.isalpha()\n",
    "islower=s.islower()\n",
    "title=s.title\n",
    "split=s.split()\n",
    "swith=s.startswith('H')\n",
    "partition=s.partition('this')\n",
    "endwth=s.endswith('.')\n",
    "center=p.center(20,'$')\n",
    "digit=d.isdigit()\n",
    "replace=s.replace('267152','74110')\n",
    "print(caps)\n",
    "print(upper)\n",
    "print(lower)\n",
    "print(find)\n",
    "print(isalpha)\n",
    "print(islower)\n",
    "print(count)\n",
    "print(title)\n",
    "print(split)\n",
    "print(swith)\n",
    "print(partition)\n",
    "print(endwth)\n",
    "print(center)\n",
    "print(digit)\n",
    "print(replace)"
   ]
  },
  {
   "cell_type": "markdown",
   "metadata": {},
   "source": [
    "Question 4 : Write a Python's user defined function that removes all the additional characters from the stringand converts it finally to lower case using built-in lower()"
   ]
  },
  {
   "cell_type": "code",
   "execution_count": 107,
   "metadata": {},
   "outputs": [
    {
     "name": "stdout",
     "output_type": "stream",
     "text": [
      "enter string with any characters: hi.this,is!prajwal$%patil&\n",
      "given string character is :  hi.this,is!prajwal$%patil&\n",
      "Removed all special characters from string\n",
      "New string is:  hi this is prajwal  patil \n"
     ]
    }
   ],
   "source": [
    "def replace(x):\n",
    "    invalid_char=['!','@','#','$','%','^','&','*','(',')',':',';','<','>',',','.','/']\n",
    "    for i in invalid_char:\n",
    "        x=x.replace(i,' ')\n",
    "        x=x.lower()\n",
    "    print('Removed all special characters from string')\n",
    "    print('New string is: ',x)\n",
    "x=str(input('enter string with any characters: '))\n",
    "print('given string character is : ',x)\n",
    "replace(x)"
   ]
  }
 ],
 "metadata": {
  "kernelspec": {
   "display_name": "Python 3",
   "language": "python",
   "name": "python3"
  },
  "language_info": {
   "codemirror_mode": {
    "name": "ipython",
    "version": 3
   },
   "file_extension": ".py",
   "mimetype": "text/x-python",
   "name": "python",
   "nbconvert_exporter": "python",
   "pygments_lexer": "ipython3",
   "version": "3.7.4"
  }
 },
 "nbformat": 4,
 "nbformat_minor": 2
}
